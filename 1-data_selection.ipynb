{
 "cells": [
  {
   "cell_type": "code",
   "execution_count": 1,
   "metadata": {},
   "outputs": [],
   "source": [
    "import pandas as pd\n",
    "import numpy as np\n",
    "import os\n",
    "from rdkit import Chem \n",
    "from rdkit import RDLogger  \n",
    "from rdkit.Chem import PandasTools, SaltRemover\n",
    "import cirpy\n",
    "\n",
    "data = pd.DataFrame()"
   ]
  },
  {
   "cell_type": "markdown",
   "metadata": {},
   "source": [
    "# Data import\n",
    "Here i import the data from the data forms they were taken as and format them similar to each other"
   ]
  },
  {
   "cell_type": "markdown",
   "metadata": {},
   "source": [
    "## Hansen\n",
    "Hansen dataset taken from: https://pubs.acs.org/doi/10.1021/ci900161g\n",
    "Comprising 6512 molecules from CCRIS, Helma et al., Kazius et al., Feng et al., VITIC, and GeneTox databases\n",
    "Given is the SMILES, CAS No., and Ames mutagenicty\n",
    "Postivite Ames mutagenicity is defined as having a positive Ames result for any salmonella strain for either with or without S9. Based on this it is said to be more accurate as this result will not change with additional testing."
   ]
  },
  {
   "cell_type": "code",
   "execution_count": 2,
   "metadata": {},
   "outputs": [],
   "source": [
    "path_to_hansen = 'data/raw/raw_data/smiles_cas_N6512.smi'\n",
    "hansen_data = pd.read_csv(path_to_hansen,sep='\\t', names=[\"smiles\",\"CASRN\", \"Ames\"])\n",
    "# path_to_hansen = 'data/raw/raw_data/Hansen_et_al_2009.csv'\n",
    "# hansen_data = pd.read_csv(path_to_hansen, names=[\"smiles\",\"CASRN\", \"Ames\"])\n",
    "data =  pd.concat([\n",
    "            data,\n",
    "            hansen_data\n",
    "        ])"
   ]
  },
  {
   "cell_type": "markdown",
   "metadata": {},
   "source": [
    "## Bruschweiler\n",
    "Brushweiler dataset taken from: https://www.sciencedirect.com/science/article/pii/S0273230017301812 \n",
    "Dataset made up of 23 azo dye cleavage products. Given is the CAS No, SMILES, and Ames results for S9 +/- for strain TA98 and then TA100"
   ]
  },
  {
   "cell_type": "code",
   "execution_count": 3,
   "metadata": {},
   "outputs": [],
   "source": [
    "path_to_bruschweiler = \"data/raw/raw_data/Bruschweiler2017_Ames_Source.csv\"\n",
    "f = pd.read_csv(path_to_bruschweiler).drop(['TA98-S9','TA98+S9','TA100-S9','TA100+S9'],axis=1); f.rename(columns={'SMILES':'smiles','Overall':'Ames'},inplace=True)\n",
    "data =  pd.concat([data,f[[\"smiles\",'CASRN',\"Ames\"]]])"
   ]
  },
  {
   "cell_type": "markdown",
   "metadata": {},
   "source": [
    "## OECD data\n",
    "taken from the OECD toolbox using the databases available.\n",
    "Note that these files were loaded with excel and saved to change the encoding to help with python reading the files"
   ]
  },
  {
   "cell_type": "code",
   "execution_count": 4,
   "metadata": {},
   "outputs": [
    {
     "name": "stdout",
     "output_type": "stream",
     "text": [
      "Canada_DSL.csv DONE\n",
      "COSING.csv DONE\n",
      "DSSTOX.csv DONE\n",
      "ECHA_PR.csv DONE\n",
      "EINECS.csv DONE\n",
      "HPVC_OECD.csv DONE\n",
      "METI_Japan.csv DONE\n",
      "NICNAS.csv DONE\n",
      "REACH_ECB.csv DONE\n",
      "TSCA.csv DONE\n",
      "US_HPV_Challenge.csv DONE\n"
     ]
    }
   ],
   "source": [
    "def converter(value):\n",
    "    if str(value) in ['Positive']:\n",
    "        return 1\n",
    "    elif value in ['Negative']:\n",
    "        return 0\n",
    "    else:\n",
    "        return np.nan\n",
    "\n",
    "## Adding OECD data\n",
    "directory = 'data/raw/raw_data/OECD_inv_data/reencoded'\n",
    "for filename in os.listdir(directory):\n",
    "    if filename.endswith(\".csv\"): \n",
    "        try:\n",
    "            df = pd.read_csv(os.path.join(directory, filename), sep='\\t', encoding='utf16',low_memory=False)\n",
    "            if set(['SMILES','CAS Number']).issubset(df.columns) and any(col in df.columns for col in ['OVERALL','Value.MeanValue']):\n",
    "                pass\n",
    "            else:\n",
    "                df = pd.read_csv(os.path.join(directory, filename), encoding='utf16',low_memory=False) \n",
    "                if set(['SMILES','CAS Number']).issubset(df.columns) and any(col in df.columns for col in ['OVERALL','Value.MeanValue']):  \n",
    "                    pass\n",
    "                else:\n",
    "                    print(filename,\"couldn't be loaded please check\")\n",
    "                    continue\n",
    "            df[\"smiles\"] = df[\"SMILES\"]\n",
    "            df['CASRN'] = df['CAS Number']\n",
    "            if \"OVERALL\" in df.columns:\n",
    "                df = df[pd.notna(df['OVERALL']) & pd.notna(df['SMILES'])]\n",
    "                df[\"Ames\"] = df['OVERALL'].apply(lambda x: converter(x))\n",
    "\n",
    "                if len(df[pd.notna(df['Ames'])]) == 0:\n",
    "                    df = df[pd.notna(df['Value.MeanValue']) & pd.notna(df['SMILES'])]\n",
    "                    df[\"Ames\"] = df['Value.MeanValue'].apply(lambda x: converter(x))\n",
    "\n",
    "            else:\n",
    "                df = df[pd.notna(df['Value.MeanValue']) & pd.notna(df['SMILES'])]\n",
    "                df[\"Ames\"] = df['Value.MeanValue'].apply(lambda x: converter(x))\n",
    "            df = df[pd.notna(df['Ames'])]\n",
    "            df[\"Ames\"] = df[\"Ames\"].astype(int)\n",
    "            data = pd.concat([data,df[[\"smiles\", \"Ames\"]]])\n",
    "            print(filename, \"DONE\")\n",
    "\n",
    "        except:\n",
    "            print(filename,\"couldn't be loaded please check\")"
   ]
  },
  {
   "cell_type": "markdown",
   "metadata": {},
   "source": [
    "# Data manipulation"
   ]
  },
  {
   "cell_type": "code",
   "execution_count": 5,
   "metadata": {},
   "outputs": [],
   "source": [
    "def format_data(df):    \n",
    "    def check_Ames(df):\n",
    "        df = df[df['Ames'].isin([1,0])]\n",
    "        return df\n",
    "\n",
    "    def find_can_smi(df):\n",
    "        def try_can_smi(x):\n",
    "            try:\n",
    "                return Chem.MolToSmiles(Chem.MolFromSmiles(x))\n",
    "            except:\n",
    "                \n",
    "                # print('Molecule lost:',x)\n",
    "                return \"not found\"\n",
    "        df[\"smiles\"] = df[\"smiles\"].apply(lambda x: try_can_smi(x))\n",
    "        df = df.drop_duplicates(subset=['smiles'])\n",
    "        df = df[df['smiles'] != \"not found\"]\n",
    "        return df\n",
    "    def clean_molecules(df):\n",
    "        def remove_salts(smiles):\n",
    "            if not smiles == np.nan:\n",
    "                remover = SaltRemover.SaltRemover()\n",
    "                mol = Chem.MolFromSmiles(smiles)\n",
    "                if not mol or not smiles:\n",
    "                    print(smiles)\n",
    "                    return np.nan\n",
    "                \n",
    "                res = remover.StripMol(mol)\n",
    "                if Chem.MolToSmiles(res):\n",
    "                    return Chem.MolToSmiles(res)\n",
    "                else:\n",
    "                    # print(\"Molecule salt removal removed whole molecule\", smiles, \"Molecule was retained but please check\")\n",
    "                    return smiles\n",
    "            else:\n",
    "                print(smiles)\n",
    "                return np.nan\n",
    "        # def remove_solutions(smiles):\n",
    "            ####\n",
    "        df['smiles'] = df['smiles'].apply(lambda x: remove_salts(x))\n",
    "        # df['smiles'] = df['smiles'].apply(lambda x: remove_solutions(x))\n",
    "        return df\n",
    "    export_df = df.copy()\n",
    "    export_df = check_Ames(export_df)\n",
    "    export_df = find_can_smi(export_df)\n",
    "    export_df = clean_molecules(export_df)\n",
    "    return export_df\n",
    "\n",
    "def only_aromatic_amines(df):\n",
    "    def get_mol(row):\n",
    "        try:\n",
    "            mol = Chem.MolFromSmiles(row['smiles'])\n",
    "            test = Chem.MolToSmiles(mol)\n",
    "            return mol\n",
    "        except:\n",
    "            try:\n",
    "                mol = Chem.MolFromSmiles(pcp.get_compounds(row['CASRN'], 'name')[0].canonical_smiles)\n",
    "                test = Chem.MolToSmiles(mol)\n",
    "                return mol\n",
    "            except:\n",
    "                print(\"error on:\",row['smiles'],row['CASRN'])\n",
    "                return \"Not found\"\n",
    "    def AA_check(row):\n",
    "        m = get_mol(row)\n",
    "        if m != \"Not found\":\n",
    "            for a in m.GetAtoms():\n",
    "                if a.GetAtomicNum() == 7 and any([n.GetIsAromatic() for n in a.GetNeighbors()]) and not a.IsInRing()  and (a.GetFormalCharge() >= 0) and len([n.GetIsAromatic() for n in a.GetNeighbors()]) ==1:     ## Checks for a nitrogen and then if the neighbors of the nitrogen are aromatic and also checks that it isn't cationic\n",
    "                    return 1\n",
    "                else: \n",
    "                    return 0\n",
    "    export_df = df.copy()\n",
    "    export_df[\"is AA\"] = export_df.apply(lambda row: AA_check(row),axis=1)\n",
    "    export_df = export_df[export_df[\"is AA\"] == 1]\n",
    "    return export_df"
   ]
  },
  {
   "cell_type": "markdown",
   "metadata": {},
   "source": [
    "## Hansen all molecules"
   ]
  },
  {
   "cell_type": "code",
   "execution_count": 6,
   "metadata": {},
   "outputs": [
    {
     "name": "stdout",
     "output_type": "stream",
     "text": [
      "original total: 6512\n",
      "final total: 6505\n",
      "original Ames split: yes=3503 no=3009\n",
      "final Ames split: yes=3496 no=3009\n"
     ]
    }
   ],
   "source": [
    "# I disable error logs as i account for them generally in my get mol function by searching for a better smiles using the CAS number. Please use for debugging if needed\n",
    "RDLogger.DisableLog('rdApp.*') \n",
    "data_final = format_data(hansen_data)\n",
    "a = data_final\n",
    "print(\"original total:\", len(hansen_data))\n",
    "print('final total:', len(data_final))\n",
    "print(\"original Ames split:\", \"yes=\"+str(len(hansen_data[hansen_data[\"Ames\"] == 1])), \"no=\"+str(len(hansen_data[hansen_data[\"Ames\"] == 0])))\n",
    "print(\"final Ames split:\", \"yes=\"+str(len(data_final[data_final[\"Ames\"] == 1])), \"no=\"+str(len(data_final[data_final[\"Ames\"] == 0])))\n",
    "data_final = data_final[[\"smiles\",'Ames']].reset_index(drop = True)\n",
    "b = data_final\n",
    "##### saving data in two forms\n",
    "    # csv form\n",
    "data_final.to_csv('data/raw/hansen_raw/Hansen_all_mols.csv', index=False)\n",
    "    # sdf form\n",
    "PandasTools.AddMoleculeColumnToFrame(data_final,'smiles','Molecule')\n",
    "data_final['idx'] = data_final.index\n",
    "Chem.PandasTools.WriteSDF(data_final, \"data/raw/hansen_raw/Hansen_all_mols.sdf\", molColName='Molecule', properties=list(data_final.columns), idName = \"idx\")"
   ]
  },
  {
   "cell_type": "markdown",
   "metadata": {},
   "source": [
    "## All data Aromatic amines"
   ]
  },
  {
   "cell_type": "code",
   "execution_count": 7,
   "metadata": {},
   "outputs": [
    {
     "name": "stdout",
     "output_type": "stream",
     "text": [
      "original total: 146079\n",
      "final total: 457\n",
      "original Ames split: yes=38580 no=107499\n",
      "final Ames split: yes=306 no=151\n"
     ]
    }
   ],
   "source": [
    "# I disable error logs as i account for them generally in my get mol function by searching for a better smiles using the CAS number. Please use for debugging if needed\n",
    "RDLogger.DisableLog('rdApp.*') \n",
    "data_final = format_data(data)\n",
    "data_final = only_aromatic_amines(data_final)\n",
    "\n",
    "print(\"original total:\", len(data))\n",
    "print('final total:', len(data_final))\n",
    "print(\"original Ames split:\", \"yes=\"+str(len(data[data[\"Ames\"] == 1])), \"no=\"+str(len(data[data[\"Ames\"] == 0])))\n",
    "print(\"final Ames split:\", \"yes=\"+str(len(data_final[data_final[\"Ames\"] == 1])), \"no=\"+str(len(data_final[data_final[\"Ames\"] == 0])))\n",
    "data_final = data_final[[\"smiles\",'Ames']].reset_index(drop = True)\n",
    "\n",
    "##### saving data in two forms\n",
    "    # csv form\n",
    "data_final.to_csv(\"data/raw/selected_molecules.csv\", index=False)\n",
    "    # sdf form\n",
    "PandasTools.AddMoleculeColumnToFrame(data_final,'smiles','Molecule')\n",
    "data_final['idx'] = data_final.index\n",
    "Chem.PandasTools.WriteSDF(data_final, \"data/raw/selected_molecules.sdf\", molColName='Molecule', properties=list(data_final.columns), idName = \"idx\")"
   ]
  }
 ],
 "metadata": {
  "interpreter": {
   "hash": "9c8956e1c5d5d3a8ae06dda0be222c7a51ecfb00452fa95ffbb603d421a7b933"
  },
  "kernelspec": {
   "display_name": "Python 3.9.7 ('fuck')",
   "language": "python",
   "name": "python3"
  },
  "language_info": {
   "codemirror_mode": {
    "name": "ipython",
    "version": 3
   },
   "file_extension": ".py",
   "mimetype": "text/x-python",
   "name": "python",
   "nbconvert_exporter": "python",
   "pygments_lexer": "ipython3",
   "version": "3.9.7"
  },
  "orig_nbformat": 4
 },
 "nbformat": 4,
 "nbformat_minor": 2
}
