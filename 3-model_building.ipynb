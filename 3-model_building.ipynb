{
 "cells": [
  {
   "cell_type": "code",
   "execution_count": 1,
   "metadata": {},
   "outputs": [],
   "source": [
    "import pandas as pd\n",
    "from sklearn.model_selection import RepeatedStratifiedKFold\n",
    "from MIL_functions import data_splitting,model_building,data_encoding\n",
    "from tpot import TPOTClassifier\n",
    "from IPython.display import clear_output\n",
    "import gc,time,datetime\n",
    "\n",
    "try:\n",
    "    import misvm \n",
    "except:\n",
    "    print(\"please use command to install MIL modelling package \\n pip install -e git+https://github.com/garydoranjr/misvm.git#egg=misvm\")\n",
    "    quit()"
   ]
  },
  {
   "cell_type": "markdown",
   "metadata": {},
   "source": [
    "# Aromatic amine models"
   ]
  },
  {
   "cell_type": "code",
   "execution_count": 3,
   "metadata": {},
   "outputs": [
    {
     "name": "stdout",
     "output_type": "stream",
     "text": [
      "splitting method: SEC     encoding: Morgan    model: External TPOT\n",
      "Already tested   fold:     iteration:     model: TPOT    encoding: Morgan\n"
     ]
    }
   ],
   "source": [
    "input_data = {\n",
    "    'Morgan' : [\n",
    "    {'name':'random','function':data_splitting.random_split,'internal_save':'model_results\\internal\\MIL_aromatic_amine_cv_results_MORGAN.pk1','external_save':'model_results\\external\\ext_val_results_MORGAN.pk1'},\n",
    "    {'name':'scaffold','function':data_splitting.scaffold_split,'internal_save':'model_results\\internal\\MIL_aromatic_amine_cv_Scaffold_MORGAN.pk1','external_save':'model_results\\external\\ext_val_results_scaffold_stratified_MORGAN.pk1'},\n",
    "    {'name':'LSH','function':data_splitting.LSH,'internal_save':'model_results\\internal\\MIL_aromatic_amine_cv_LSH_MORGAN.pk1','external_save':'model_results\\external\\ext_val_results_LSH_stratified_MORGAN.pk1'},\n",
    "    {'name':'SEC','function':data_splitting.SEC,'internal_save':'model_results\\internal\\MIL_aromatic_amine_cv_SEC_MORGAN.pk1','external_save':'model_results\\external\\ext_val_results_SEC_stratified_MORGAN.pk1'},\n",
    "    ],\n",
    "\n",
    "    'MACCS' : [\n",
    "    {'name':'random','function':data_splitting.random_split,'internal_save':'model_results\\internal\\MIL_aromatic_amine_cv_results.pk1','external_save':'model_results\\external\\ext_val_results.pk1'},\n",
    "    {'name':'scaffold','function':data_splitting.scaffold_split,'internal_save':'model_results\\internal\\MIL_aromatic_amine_cv_Scaffold.pk1','external_save':'model_results\\external\\ext_val_results_scaffold_stratified.pk1'},\n",
    "    {'name':'LSH','function':data_splitting.LSH,'internal_save':'model_results\\internal\\MIL_aromatic_amine_cv_LSH.pk1','external_save':'model_results\\external\\ext_val_results_LSH_stratified.pk1'},\n",
    "    {'name':'SEC','function':data_splitting.SEC,'internal_save':'model_results\\internal\\MIL_aromatic_amine_cv_SEC.pk1','external_save':'model_results\\external\\ext_val_results_SEC_stratified.pk1'},\n",
    "    ]\n",
    "}\n",
    "\n",
    "for encoding in [\"MACCS\",'Morgan']:\n",
    "    data = data_encoding.load_compressed_pickle(\"data/encoded/encoded_data.dat\")\n",
    "    if encoding == 'Morgan':\n",
    "        data = model_building.remove_zero_variance(data,encoding='Morgan')\n",
    "\n",
    "    for splitting_method in input_data[encoding]:\n",
    "        ########## Internal Validation\n",
    "        training_data,test_data = data_splitting.split_data(data,splitting_method['function'])\n",
    "        rskf = RepeatedStratifiedKFold(n_splits=10, n_repeats=10, random_state=6234794)\n",
    "        for fold,[train_index, validation_index] in enumerate(rskf.split(training_data, training_data[\"Ames\"])):\n",
    "            model_building.updater(mdl='MILS',splt=splitting_method['name'],enc=encoding,fld=fold)\n",
    "            train   =   training_data.iloc[train_index];        validation    =   training_data.iloc[validation_index]\n",
    "            model_building.develop_models(training_data=train,testing_data=validation,encoding = encoding,suffix={\"fold\":fold%10,\"iteration\":fold//10},save_model=False,save_name=splitting_method['internal_save'])\n",
    "            del train; del validation; gc.collect()\n",
    "\n",
    "        ########## External validation\n",
    "        best_model = [\"total_data_NSK_polynomial\",misvm.NSK(kernel=\"polynomial\",verbose=False)]\n",
    "        tpot_model = TPOTClassifier(generations=10, population_size=500, cv=5, verbosity=1, n_jobs=8)\n",
    "        model_building.updater(mdl='External MIL',splt=splitting_method['name'],enc=encoding,fld=\"\")\n",
    "        model_building.build_test_mil_model(training_data=training_data,testing_data=test_data,encoding=encoding,suffix={\"fold\":\"\",\"iteration\":\"\"},save_model=False,save_name=splitting_method['external_save'],model_name=best_model[0],MIL=best_model[1])\n",
    "        model_building.updater(mdl='External TPOT',splt=splitting_method['name'],enc=encoding,fld=\"\")\n",
    "        model_building.build_test_ml_model( training_data=training_data,testing_data=test_data,encoding=encoding,suffix={\"fold\":\"\",\"iteration\":\"\"},save_model=False,save_name=splitting_method['external_save'],tpot=tpot_model,splitting_name=splitting_method['name'])"
   ]
  },
  {
   "cell_type": "markdown",
   "metadata": {},
   "source": [
    "# Hansen Models"
   ]
  },
  {
   "cell_type": "code",
   "execution_count": null,
   "metadata": {},
   "outputs": [],
   "source": [
    "from sklearn.feature_selection import VarianceThreshold\n",
    "import numpy as np"
   ]
  },
  {
   "cell_type": "code",
   "execution_count": null,
   "metadata": {},
   "outputs": [],
   "source": [
    "def remove_zero_variance(inp):\n",
    "    df = inp.copy()\n",
    "    all_data = [lst for lists in df['Morgan_MIL'].to_list() for lst in lists]\n",
    "    constant_filter = VarianceThreshold(threshold=0)\n",
    "    constant_filter.fit(all_data)\n",
    "    # df['Morgan'] = df['Morgan'].apply(lambda x: constant_filter.transform(np.array(x).reshape(1, -1)))\n",
    "    df['Morgan_MIL'] = df['Morgan_MIL'].apply(lambda x: constant_filter.transform(x))\n",
    "    return df\n"
   ]
  },
  {
   "cell_type": "code",
   "execution_count": null,
   "metadata": {},
   "outputs": [
    {
     "name": "stdout",
     "output_type": "stream",
     "text": [
      "This will fail... 20\n",
      "This will fail... 4\n",
      "Already tested   fold: 9    iteration: 0    model: NSK polynomial    encoding: Morgan\n"
     ]
    }
   ],
   "source": [
    "data = {}\n",
    "\n",
    "data['MACCS'] = data_encoding.load_compressed_pickle(\"data/encoded/encoded_data_hansen.dat\")\n",
    "data['Morgan'] = data_encoding.load_compressed_pickle(\"data/encoded/encoded_data_hansen.dat\"); data['Morgan'] = model_building.clean_data(data['Morgan']); data['Morgan'] = remove_zero_variance(data['Morgan'])\n",
    "rskf = RepeatedStratifiedKFold(n_splits=10, n_repeats=1, random_state=6234794)\n",
    "for kernel in ['linear', 'polynomial']:\n",
    "    mil = misvm.NSK(kernel=kernel,verbose=False)\n",
    "    name = \"NSK \"+str(kernel)\n",
    "    for encoding in [\"MACCS\",'Morgan']:\n",
    "        dataset = data[encoding]\n",
    "        for fold,[train_index, validation_index] in enumerate(rskf.split(dataset, dataset[\"Ames\"])):\n",
    "            train   =   dataset.iloc[train_index];        validation    =   dataset.iloc[validation_index]\n",
    "            model_building.check_rank(train);model_building.check_rank(validation)\n",
    "            model_building.build_test_mil_model(training_data=train,testing_data=validation,encoding = encoding,suffix={\"fold\":fold%10,\"iteration\":fold//10},MIL = mil,save_model=False,save_name='model_results/hansen/rscv_random_hansen_results.pk1',model_name=name)\n",
    "            del train; del validation; gc.collect()"
   ]
  }
 ],
 "metadata": {
  "interpreter": {
   "hash": "9c8956e1c5d5d3a8ae06dda0be222c7a51ecfb00452fa95ffbb603d421a7b933"
  },
  "kernelspec": {
   "display_name": "Python 3.9.7 ('fuck')",
   "language": "python",
   "name": "python3"
  },
  "language_info": {
   "codemirror_mode": {
    "name": "ipython",
    "version": 3
   },
   "file_extension": ".py",
   "mimetype": "text/x-python",
   "name": "python",
   "nbconvert_exporter": "python",
   "pygments_lexer": "ipython3",
   "version": "3.9.7"
  },
  "orig_nbformat": 4
 },
 "nbformat": 4,
 "nbformat_minor": 2
}
